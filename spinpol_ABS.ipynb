{
 "cells": [
  {
   "cell_type": "markdown",
   "metadata": {},
   "source": [
    "#Adapting the Michelsen, Shumeiko, Wendin paper for our purposes"
   ]
  },
  {
   "cell_type": "markdown",
   "metadata": {},
   "source": [
    "The [paper](http://journals.aps.org/prb/abstract/10.1103/PhysRevB.77.184506) considers a short junction with one channel with a spin-filter scattering centre. They define a scattering phase shift in eq. (4):\n",
    "$$\n",
    "\\beta = \\frac{g \\mu_B B l}{\\hbar v_F}\n",
    "$$\n",
    "as a function of the external magnetic field, $B$ acting within a length of $l$ of the entire channel length $L$, and Fermi velocity $v_F$. They further assume $l\\ll L$ so as to leave the superconductivity in the banks unchanged. Since however $L \\ll \\xi$, the exact ratio does not matter and does not show up later on. Also, I substituted $gB=H$ based on the Hamiltonian they define in eq. (2)."
   ]
  },
  {
   "cell_type": "markdown",
   "metadata": {},
   "source": [
    "Now we jump to eq. (9), where the Andreev energies are defined in a suprisingly concise form:\n",
    "$$\n",
    "E_s=\\Theta_s \\Delta \\cos(s\\eta-\\beta/2)\n",
    "$$\n",
    "with $s=\\pm$."
   ]
  },
  {
   "cell_type": "markdown",
   "metadata": {},
   "source": [
    "Further definitions:\n",
    "$$\n",
    "\\Theta_s=sgn(\\sin(s\\eta-\\beta/2))\n",
    "$$\n",
    "$$\n",
    "\\sin(\\eta)=\\sqrt{D}\\sin(\\phi/2)\n",
    "$$\n",
    "where $D$ is the channel transparency and $\\phi$ is the applied phase."
   ]
  },
  {
   "cell_type": "markdown",
   "metadata": {},
   "source": [
    "## Zero field solution"
   ]
  },
  {
   "cell_type": "markdown",
   "metadata": {},
   "source": [
    "We substitute $\\beta=0$ to the equations above:\n",
    "$$\n",
    "\\Theta_s=sgn(\\sin(s\\eta))=s\\times sgn(\\sin(\\eta))\n",
    "$$\n",
    "$$\n",
    "\\cos(\\eta)=\\sqrt{1-\\sin^2(\\eta)}=\\sqrt{1-D\\sin^2(\\phi/2)}\n",
    "$$\n",
    "$$\n",
    "E_{s,0}=\\pm\\Delta\\cos(\\eta)=\\pm\\Delta\\sqrt{1-D\\sin^2(\\phi/2)}\n",
    "$$\n",
    "which is what we like."
   ]
  },
  {
   "cell_type": "markdown",
   "metadata": {},
   "source": [
    "## Perturbative solution for small fields"
   ]
  },
  {
   "cell_type": "markdown",
   "metadata": {},
   "source": [
    "This time we assume that $\\beta \\ll \\eta$ so that the trigonomical expressions can be expanded accordingly. Note that this will not work near $\\eta=\\phi=0$. However we don't have data there anyways."
   ]
  },
  {
   "cell_type": "markdown",
   "metadata": {},
   "source": [
    "$$\n",
    "\\Theta_s=sgn(\\sin(s\\eta))=s\\times sgn(\\sin(\\eta))\n",
    "$$"
   ]
  },
  {
   "cell_type": "markdown",
   "metadata": {},
   "source": [
    "$$\n",
    "E_s = \\Theta_s \\Delta \\left [ \\cos(s\\eta)\\cos(\\beta/2)+\\sin(s\\eta)\\sin(\\beta/2)\\right ]\n",
    "\\approx \\Theta_s \\Delta \\left [ \\cos(\\eta)(1-\\beta^2/8)+s \\sin(\\eta)\\beta/2 \\right ]\n",
    "$$"
   ]
  },
  {
   "cell_type": "markdown",
   "metadata": {},
   "source": [
    "The first part merely renormalises $\\Delta$, whereas the second one adds the splitting of the formerly degenerate states:\n",
    "$$\n",
    "\\Delta'=\\Delta(1-\\beta^2/8)\n",
    "$$\n",
    "and\n",
    "$$\n",
    "\\delta = \\sin(\\eta)\\beta/2.\n",
    "$$\n"
   ]
  },
  {
   "cell_type": "markdown",
   "metadata": {},
   "source": [
    "Thus the result is:\n",
    "$$\n",
    "E_s(\\beta)=\\pm \\Delta'\\sqrt{1-D\\sin^2(\\phi/2)} \\pm \\Delta \\delta\n",
    "$$"
   ]
  },
  {
   "cell_type": "markdown",
   "metadata": {},
   "source": [
    "In spectroscopy, we only see the sum of the transition energies, thus the second term drops out:\n",
    "$$\n",
    "2eV_{spec}=2\\Delta'\\sqrt{1-D\\sin^2(\\phi/2)} = 2\\Delta(1-\\beta^2/8)\\sqrt{1-D\\sin^2(\\phi/2)}\n",
    "$$\n",
    "which looks like the *quadratic* dispersion we observe."
   ]
  },
  {
   "cell_type": "markdown",
   "metadata": {},
   "source": [
    "We try to match this with the the observed $B_c=400\\,$mT critical field:\n",
    "$$\n",
    "\\beta_c = \\sqrt{8}=2\\sqrt{2}=\\frac{g \\mu_B B_c l}{\\hbar v_F}\n",
    "$$\n"
   ]
  },
  {
   "cell_type": "markdown",
   "metadata": {},
   "source": [
    "Let's put a channel length of $l=100\\,$nm, $v_F=10^5\\,$m/s. With this, we get $g=80.4$, which is kind of high."
   ]
  },
  {
   "cell_type": "markdown",
   "metadata": {
    "collapsed": true
   },
   "source": [
    "##Other papers using the same formalism\n",
    "\n",
    "We can find similar expressions in the following papers, too:\n",
    "* [Bezuglyi et al](http://journals.aps.org/prb/abstract/10.1103/PhysRevB.66.052508), around Eq. (18). Note: they also consider spin-orbit coupling.\n",
    "* [Cheng & Lutchyn](http://journals.aps.org/prb/abstract/10.1103/PhysRevB.86.134522), between Eq. (8) and (9). Note: SOI part is not really accessible for me. The analytical expressions only apply to perfect transmission.\n",
    "* [Yokoyama & Nazarov](http://journals.aps.org/prb/abstract/10.1103/PhysRevB.89.195407), page 5, top right coloumn. There is also an expression of $E_{ABS}$ including SOI, see Eqs (22) and (23).\n",
    "* [Buzdin](http://journals.aps.org/prl/abstract/10.1103/PhysRevLett.101.107005), Eq. (10), implicitly in the expression for supercurrent. Also $\\phi_0=4\\alpha h L/v^2$ phase shift when SOI is present with probably a few things being dimensionless.\n"
   ]
  },
  {
   "cell_type": "markdown",
   "metadata": {},
   "source": [
    "##No transition above the critical field?\n",
    "\n",
    "There is an interesting argument around Eq.~(14) dealing with current matrix elements. The statement is that once the Andreev states cross, i.e. $B=B_c$, the Andreev transition becomes inhibited by virtue of the occupied spin states. "
   ]
  },
  {
   "cell_type": "markdown",
   "metadata": {
    "collapsed": true
   },
   "source": [
    "##More thoughts on spin-orbit coupling\n",
    "\n",
    "Based on the expressions of $\\beta$ and $\\phi_0$, we could actually figure out the relative strength of SOI:\n",
    "$$\n",
    "\\phi_0 \\sim \\beta \\frac{\\alpha}{\\hbar v_F}\n",
    "$$\n",
    "where $\\alpha\\sim 1$eVA and $\\hbar v_F \\approx 0.66$eVA if $v_F=10^5$m/s, so the effect should be visible. I am not sure about the prefactors of $\\beta$ and $\\phi_0$ anymore though. "
   ]
  },
  {
   "cell_type": "code",
   "execution_count": null,
   "metadata": {
    "collapsed": true
   },
   "outputs": [],
   "source": []
  }
 ],
 "metadata": {
  "kernelspec": {
   "display_name": "Python 3",
   "language": "python",
   "name": "python3"
  },
  "language_info": {
   "codemirror_mode": {
    "name": "ipython",
    "version": 3
   },
   "file_extension": ".py",
   "mimetype": "text/x-python",
   "name": "python",
   "nbconvert_exporter": "python",
   "pygments_lexer": "ipython3",
   "version": "3.4.2"
  }
 },
 "nbformat": 4,
 "nbformat_minor": 0
}
