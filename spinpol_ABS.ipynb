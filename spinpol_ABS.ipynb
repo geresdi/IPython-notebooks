{
 "cells": [
  {
   "cell_type": "markdown",
   "metadata": {},
   "source": [
    "#Adapting the Michelsen, Shumeiko, Wendin paper for our purposes"
   ]
  },
  {
   "cell_type": "markdown",
   "metadata": {},
   "source": [
    "The [paper](http://journals.aps.org/prb/abstract/10.1103/PhysRevB.77.184506) considers a short junction with one channel with a spin-filter scattering centre. They define a scattering phase shift in eq. (4):\n",
    "$$\n",
    "\\beta = \\frac{g \\mu_B B l}{\\hbar v_F}\n",
    "$$\n",
    "as a function of the external magnetic field, $B$ acting within a length of $l$ of the entire channel length $L$, and Fermi velocity $v_F$. They further assume $l\\ll L$ so as to leave the superconductivity in the banks unchanged. Since however $L \\ll \\xi$, the exact ratio does not matter and does not show up later on. Also, I substituted $gB=H$ based on the Hamiltonian they define in eq. (2)."
   ]
  },
  {
   "cell_type": "markdown",
   "metadata": {},
   "source": [
    "Now we jump to eq. (9), where the Andreev energies are defined in a suprisingly concise form:\n",
    "$$\n",
    "E_s=\\Theta_s \\Delta \\cos(s\\eta-\\beta/2)\n",
    "$$\n",
    "with $s=\\pm$."
   ]
  },
  {
   "cell_type": "markdown",
   "metadata": {},
   "source": [
    "Further definitions:\n",
    "$$\n",
    "\\Theta_s=sgn(\\sin(s\\eta-\\beta/2))\n",
    "$$\n",
    "$$\n",
    "\\sin(\\eta)=\\sqrt{D}\\sin(\\phi/2)\n",
    "$$\n",
    "where $D$ is the channel transparency and $\\phi$ is the applied phase."
   ]
  },
  {
   "cell_type": "markdown",
   "metadata": {},
   "source": [
    "## Zero field solution"
   ]
  },
  {
   "cell_type": "markdown",
   "metadata": {},
   "source": [
    "We substitute $\\beta=0$ to the equations above:\n",
    "$$\n",
    "\\Theta_s=sgn(\\sin(s\\eta))=s\\times sgn(\\sin(\\eta))\n",
    "$$\n",
    "$$\n",
    "\\cos(\\eta)=\\sqrt{1-\\sin^2(\\eta)}=\\sqrt{1-D\\sin^2(\\phi/2)}\n",
    "$$\n",
    "$$\n",
    "E_{s,0}=\\pm\\Delta\\cos(\\eta)=\\pm\\Delta\\sqrt{1-D\\sin^2(\\phi/2)}\n",
    "$$\n",
    "which is what we like."
   ]
  },
  {
   "cell_type": "markdown",
   "metadata": {},
   "source": [
    "## Perturbative solution for small fields"
   ]
  },
  {
   "cell_type": "markdown",
   "metadata": {},
   "source": [
    "This time we assume that $\\beta \\ll \\eta$ so that the trigonomical expressions can be expanded accordingly. Note that this will not work near $\\eta=\\phi=0$. However we don't have data there anyways."
   ]
  },
  {
   "cell_type": "markdown",
   "metadata": {},
   "source": [
    "$$\n",
    "\\Theta_s=sgn(\\sin(s\\eta))=s\\times sgn(\\sin(\\eta))\n",
    "$$"
   ]
  },
  {
   "cell_type": "markdown",
   "metadata": {},
   "source": [
    "$$\n",
    "E_s = \\Theta_s \\Delta \\left [ \\cos(s\\eta)\\cos(\\beta/2)+\\sin(s\\eta)\\sin(\\beta/2)\\right ]\n",
    "\\approx \\Theta_s \\Delta \\left [ \\cos(\\eta)(1-\\beta^2/8)+s \\sin(\\eta)\\beta/2 \\right ]\n",
    "$$"
   ]
  },
  {
   "cell_type": "markdown",
   "metadata": {},
   "source": [
    "The first part merely renormalises $\\Delta$, whereas the second one adds the splitting of the formerly degenerate states:\n",
    "$$\n",
    "\\Delta'=\\Delta(1-\\beta^2/8)\n",
    "$$\n",
    "and\n",
    "$$\n",
    "\\delta = \\sin(\\eta)\\beta/2.\n",
    "$$\n"
   ]
  },
  {
   "cell_type": "markdown",
   "metadata": {},
   "source": [
    "Thus the result is:\n",
    "$$\n",
    "E_s(\\beta)=\\pm \\Delta'\\sqrt{1-D\\sin^2(\\phi/2)} \\pm \\Delta \\delta\n",
    "$$"
   ]
  },
  {
   "cell_type": "markdown",
   "metadata": {},
   "source": [
    "In spectroscopy, we only see the sum of the transition energies, thus the second term drops out:\n",
    "$$\n",
    "2eV_{spec}=2\\Delta'\\sqrt{1-D\\sin^2(\\phi/2)} = 2\\Delta(1-\\beta^2/8)\\sqrt{1-D\\sin^2(\\phi/2)}\n",
    "$$\n",
    "which looks like the \\emph{quadratic} dispersion we observe."
   ]
  },
  {
   "cell_type": "markdown",
   "metadata": {},
   "source": [
    "We try to match this with the the observed $B_c=400\\,$mT critical field:\n",
    "$$\n",
    "\\beta_c = \\sqrt{8}=2\\sqrt{2}=\\frac{g \\mu_B B_c l}{\\hbar v_F}\n",
    "$$\n"
   ]
  },
  {
   "cell_type": "markdown",
   "metadata": {},
   "source": [
    "Let's put a channel length of $l=100\\,$nm, $v_F=10^5\\,$m/s. With this, we get $g=80.4$, which is kind of high."
   ]
  },
  {
   "cell_type": "code",
   "execution_count": null,
   "metadata": {
    "collapsed": true
   },
   "outputs": [],
   "source": []
  }
 ],
 "metadata": {
  "kernelspec": {
   "display_name": "Python 3",
   "language": "python",
   "name": "python3"
  },
  "language_info": {
   "codemirror_mode": {
    "name": "ipython",
    "version": 3
   },
   "file_extension": ".py",
   "mimetype": "text/x-python",
   "name": "python",
   "nbconvert_exporter": "python",
   "pygments_lexer": "ipython3",
   "version": "3.4.2"
  }
 },
 "nbformat": 4,
 "nbformat_minor": 0
}
