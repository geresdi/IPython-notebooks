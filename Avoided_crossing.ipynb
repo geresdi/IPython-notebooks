{
 "cells": [
  {
   "cell_type": "markdown",
   "metadata": {},
   "source": [
    "#Estimating the avoided crossing based on the Bretheau et al theory paper "
   ]
  },
  {
   "cell_type": "markdown",
   "metadata": {},
   "source": [
    "We fast-forward to the section IV, eq. 10 of the [paper](http://journals.aps.org/prb/abstract/10.1103/PhysRevB.90.134506)."
   ]
  },
  {
   "cell_type": "markdown",
   "metadata": {},
   "source": [
    "\\begin{equation}\n",
    "eV_{spec}=\\varepsilon_{\\pm}=E_{ABS}+\\frac{1}{2}\\hbar\\omega_p\\pm W\n",
    "\\end{equation}"
   ]
  },
  {
   "cell_type": "markdown",
   "metadata": {},
   "source": [
    "where the avoided crossing at the degeneracy point is:"
   ]
  },
  {
   "cell_type": "markdown",
   "metadata": {},
   "source": [
    "\\begin{equation}\n",
    "\\delta=2W=2\\Omega_x=2\\Delta\\sqrt{z}\\frac{T\\sin \\phi}{4\\sqrt{1-T\\sin^2\\frac{\\phi}{2}}}\\sqrt{1-T}\\tan\\frac{\\phi}{2}\n",
    "\\end{equation}"
   ]
  },
  {
   "cell_type": "markdown",
   "metadata": {},
   "source": [
    "In Fig.2d, we set $\\phi=\\pi$, so the equation above simplifies to:"
   ]
  },
  {
   "cell_type": "markdown",
   "metadata": {},
   "source": [
    "\\begin{equation}\n",
    "\\delta=\\Delta\\sqrt{z}T\n",
    "\\end{equation}"
   ]
  },
  {
   "cell_type": "markdown",
   "metadata": {},
   "source": [
    "Let's fill this in!"
   ]
  },
  {
   "cell_type": "markdown",
   "metadata": {},
   "source": [
    "The superconducting gap is:\n",
    "$$\\Delta=150\\,\\mu eV$$"
   ]
  },
  {
   "cell_type": "markdown",
   "metadata": {},
   "source": [
    "The dimensionless characteristic impedance:\n",
    "$$z=\\sqrt{\\frac{E_C}{2E_J}}=0.14$$\n",
    "with $E_C=6.44\\,\\mu$eV and $E_J=165\\,\\mu$eV."
   ]
  },
  {
   "cell_type": "markdown",
   "metadata": {},
   "source": [
    "We know that at the crossing point, the Andreev state just touches the plasma mode,\n",
    "$$2E_{ABS}(\\phi=\\pi)=2\\Delta\\sqrt{1-T}=\\hbar\\omega_p$$"
   ]
  },
  {
   "cell_type": "markdown",
   "metadata": {},
   "source": [
    "Since $f_p=22.32\\,$GHz, $\\hbar\\omega_p=92.3\\,\\mu$eV. This gives $T=0.905$ using the same $\\Delta$ as before."
   ]
  },
  {
   "cell_type": "markdown",
   "metadata": {},
   "source": [
    "In summary,\n",
    "$$\\delta=50.8\\,\\mu eV$$\n",
    "instead of the observed value of $\\approx 9\\,\\mu$eV."
   ]
  },
  {
   "cell_type": "code",
   "execution_count": null,
   "metadata": {
    "collapsed": true
   },
   "outputs": [],
   "source": []
  }
 ],
 "metadata": {
  "kernelspec": {
   "display_name": "Python 3",
   "language": "python",
   "name": "python3"
  },
  "language_info": {
   "codemirror_mode": {
    "name": "ipython",
    "version": 3
   },
   "file_extension": ".py",
   "mimetype": "text/x-python",
   "name": "python",
   "nbconvert_exporter": "python",
   "pygments_lexer": "ipython3",
   "version": "3.4.2"
  }
 },
 "nbformat": 4,
 "nbformat_minor": 0
}
