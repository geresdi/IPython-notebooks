{
 "cells": [
  {
   "cell_type": "markdown",
   "metadata": {},
   "source": [
    "# Comparing models of spin-split ABS"
   ]
  },
  {
   "cell_type": "markdown",
   "metadata": {},
   "source": [
    "##Definitions\n",
    "\n",
    "Andreev bound states:\n",
    "\n",
    "$$E^{\\pm}(\\varphi)$$ \n",
    "$$\\Sigma(\\varphi)=E^{+}(\\varphi)+E^{-}(\\varphi)$$\n",
    "$$\\delta(\\varphi)=E^{+}(\\varphi)-E^{-}(\\varphi)$$"
   ]
  },
  {
   "cell_type": "markdown",
   "metadata": {},
   "source": [
    "##Playground"
   ]
  },
  {
   "cell_type": "code",
   "execution_count": 4,
   "metadata": {
    "collapsed": true
   },
   "outputs": [],
   "source": [
    "%matplotlib inline\n",
    "import numpy as np\n",
    "import matplotlib.pyplot as plt\n",
    "E_0 = lambda tau, phi : np.sqrt(1 - tau * np.sin(phi/2)**2)\n",
    "f_1 = lambda beta, tau, phi: tau * (tau * np.sin(phi/2)**2 - 2 * (1 - tau) + tau * beta**2)\n",
    "f_2 = lambda beta, tau, phi: 2 * tau * np.sqrt(E_0(tau, phi)**2 * tau * np.sin(phi/2)**2 \\\n",
    "                                               + tau**2 * beta**2 * np.cos(phi/2)**2)\n",
    "f_3 = lambda beta, tau, phi: tau * (4 * tau - 2 + tau * beta**2)\n",
    "    \n",
    "def andreev_energies_bernard(beta, tau, phi, sigma):\n",
    "    num_1 = E_0(tau, phi)**2 + beta**2 * f_1(beta, tau, phi)\n",
    "    num_2 = beta * f_2(beta, tau, phi)\n",
    "    den = 1 + beta**2 * f_3(beta, tau, phi)\n",
    "    return np.sqrt((num_1 + sigma * num_2)/den)\n",
    "\n",
    "def andreev_energies_michelsen(beta, tau, phi, sigma):\n",
    "    return np.abs(np.cos(np.arcsin(np.sqrt(tau)*np.sin(phi/2)) - sigma * beta /2))\n",
    "\n",
    "def sigma_bernard(beta, tau, phi):\n",
    "    return andreev_energies_bernard(beta, tau, phi, +1)+andreev_energies_bernard(beta, tau, phi, -1)\n",
    "\n",
    "def sigma_michelsen(beta, tau, phi):\n",
    "    return andreev_energies_michelsen(beta, tau, phi, +1)+andreev_energies_michelsen(beta, tau, phi, -1)\n",
    "\n",
    "def delta_bernard(beta, tau, phi):\n",
    "    return andreev_energies_bernard(beta, tau, phi, +1)-andreev_energies_bernard(beta, tau, phi, -1)\n",
    "\n",
    "def delta_michelsen(beta, tau, phi):\n",
    "    return andreev_energies_michelsen(beta, tau, phi, +1)-andreev_energies_michelsen(beta, tau, phi, -1)"
   ]
  },
  {
   "cell_type": "code",
   "execution_count": 41,
   "metadata": {
    "collapsed": false
   },
   "outputs": [
    {
     "name": "stdout",
     "output_type": "stream",
     "text": [
      "0.0667157994312\n"
     ]
    },
    {
     "data": {
      "image/png": "[encoded data removed]",
      "text/plain": [
       "<matplotlib.figure.Figure at 0x57cd908>"
      ]
     },
     "metadata": {},
     "output_type": "display_data"
    }
   ],
   "source": [
    "phis = np.linspace(0, 2*np.pi, 200)\n",
    "t=0.3\n",
    "beta=0.2\n",
    "en_plus = andreev_energies_bernard(beta, t, phis, 1)\n",
    "en_minus = andreev_energies_bernard(beta, t, phis, -1)\n",
    "print(en_plus[100]-en_minus[100])\n",
    "en_michelsen_plus = andreev_energies_michelsen(beta, t, phis, 1)\n",
    "en_michelsen_minus = andreev_energies_michelsen(beta, t, phis, -1)\n",
    "f, ax = plt.subplots(1, 2, sharey=True, figsize=(10,4))\n",
    "ax[0].plot(phis, en_plus, c='k', lw=2)\n",
    "ax[0].plot(phis, en_minus, c='r', lw=2)\n",
    "ax[0].set_xlim([0, 2*np.pi])\n",
    "ax[0].set_ylim([0, 1])\n",
    "ax[0].set_title(r\"Bernard et al.\")\n",
    "ax[0].set_ylabel(r\"$E_\\pm(\\phi)/\\Delta$\")\n",
    "ax[0].set_xlabel(r\"$\\phi$\")\n",
    "ax[0].set_xticks([0, np.pi, 2*np.pi])\n",
    "ax[0].set_xticklabels([r'$0$', r'$\\pi$', r'$2\\pi$'])\n",
    "ax[1].plot(phis, en_michelsen_plus, c='k', lw=2)\n",
    "ax[1].plot(phis, en_michelsen_minus, c='r', lw=2)\n",
    "ax[1].set_xlim([0, 2*np.pi])\n",
    "ax[1].set_xlabel(r\"$\\phi$\")\n",
    "ax[1].set_title(r\"Michelsen et al.\")\n",
    "ax[1].set_xticks([0, np.pi, 2*np.pi])\n",
    "ax[1].set_xticklabels([r'$0$', r'$\\pi$', r'$2\\pi$'])\n",
    "plt.show()"
   ]
  },
  {
   "cell_type": "code",
   "execution_count": null,
   "metadata": {
    "collapsed": true
   },
   "outputs": [],
   "source": []
  },
  {
   "cell_type": "markdown",
   "metadata": {},
   "source": [
    "##Summary in first order of $\\beta$"
   ]
  },
  {
   "cell_type": "markdown",
   "metadata": {},
   "source": [
    "|                   | *Bernard et al.* | *Michelsen et al.* |\n",
    "|----------------|-------------------|------------------|\n",
    "| $E^{+}(\\varphi=0)$|        1       |  $<1$         |\n",
    "|rebouncing         |   no           |       yes        |\n",
    "|zero phase split, $\\delta(0)$    |$2\\tau^2\\beta^2$      | 0                |\n",
    "|$\\Sigma(\\pi)$      | $2E_0(1-\\frac{3}{2}\\tau^2\\beta^2)$   |$2E_0(1-\\frac{\\beta^2}{8})$                  |\n",
    "|       $\\delta(\\pi)$| $2\\tau^{3/2}\\beta$|      $\\tau^{1/2}\\beta$            |\n"
   ]
  },
  {
   "cell_type": "code",
   "execution_count": null,
   "metadata": {
    "collapsed": true
   },
   "outputs": [],
   "source": []
  }
 ],
 "metadata": {
  "kernelspec": {
   "display_name": "Python 3",
   "language": "python",
   "name": "python3"
  },
  "language_info": {
   "codemirror_mode": {
    "name": "ipython",
    "version": 3
   },
   "file_extension": ".py",
   "mimetype": "text/x-python",
   "name": "python",
   "nbconvert_exporter": "python",
   "pygments_lexer": "ipython3",
   "version": "3.4.2"
  }
 },
 "nbformat": 4,
 "nbformat_minor": 0
}
